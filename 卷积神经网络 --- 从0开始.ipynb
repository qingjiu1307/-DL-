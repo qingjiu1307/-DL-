{
 "cells": [
  {
   "cell_type": "code",
   "execution_count": 5,
   "metadata": {
    "collapsed": true
   },
   "outputs": [],
   "source": [
    "from mxnet import ndarray as nd\n",
    "\n",
    "weight_scale = 0.01\n",
    "num_outputs = 10\n",
    "num_fc = 128\n",
    "#output channels = 20, kernel = (5,5)\n",
    "W1 = nd.random.normal(shape=(20,1,5,5), scale=weight_scale)\n",
    "b1 = nd.zeros(W1.shape[0])\n",
    "\n",
    "#output channels = 50, kernel = (3,3)\n",
    "W2 = nd.random.normal(shape=(50,1,3,3), scale=weight_scale)\n",
    "b2 = nd.zeros(W2.shape[0])\n",
    "\n",
    "#output dim = 128\n",
    "W3 = nd.random.normal(shape=(1250, 128), scale=weight_scale)\n",
    "b3 = nd.zeros(W3.shape[1])\n",
    "\n",
    "#output dim = 10\n",
    "W4 = nd.random.normal(shape=(W3.shape[1], 10), scale=weight_scale)\n",
    "b4 = nd.zeros(W4.shape[1])\n",
    "\n",
    "params = [W1, b1, W2, b2, W3, b3, W4, b4]\n",
    "for param in params:\n",
    "    param.attach_grad()"
   ]
  },
  {
   "cell_type": "code",
   "execution_count": 4,
   "metadata": {
    "collapsed": true
   },
   "outputs": [],
   "source": [
    "def net(x):\n",
    "    #第一层卷积\n",
    "    h1_conv = nd.Convolution(data=x,weight=W1,bias=b1,kernel=W1.shape[2:],num_filter=W1.shape[0])\n",
    "    h1_activation = nd.relu(h1_conv)\n",
    "    h1 = nd.Pooling(data=h1_activation,pool_type='max',kernel=(2,2),stride=(2,2))\n",
    "    #第二层卷积\n",
    "    h2_conv = nd.Convolution(data=h1,weight=W2,bias=b2,kernel=W2.shape[2:],num_filter=W2.shape[0])\n",
    "    h2_activation = nd.relu(h2_conv)\n",
    "    h2 = nd.Pooling(data=h2_activation,pool_type='max',kernel=(2,2),stride=(2,2))\n",
    "    h2 = nd.flatten(h2)\n",
    "    #第一层全连接\n",
    "    h3_linear = nd.dot(h2,W3) + b3\n",
    "    h3 = nd.relu(h3_linear)\n",
    "    #第二层全连接\n",
    "    h4_linear = nd.dot(h3,W4) + b4\n",
    "    "
   ]
  },
  {
   "cell_type": "code",
   "execution_count": 6,
   "metadata": {},
   "outputs": [
    {
     "name": "stdout",
     "output_type": "stream",
     "text": [
      "Help on function normal in module mxnet.ndarray.random:\n",
      "\n",
      "normal(loc=0, scale=1, shape=_Null, dtype=_Null, ctx=None, out=None, **kwargs)\n",
      "    Draw random samples from a normal (Gaussian) distribution.\n",
      "    \n",
      "    Samples are distributed according to a normal distribution parametrized\n",
      "    by *loc* (mean) and *scale* (standard deviation).\n",
      "    \n",
      "    \n",
      "    Parameters\n",
      "    ----------\n",
      "    loc : float or NDArray\n",
      "        Mean (centre) of the distribution.\n",
      "    scale : float or NDArray\n",
      "        Standard deviation (spread or width) of the distribution.\n",
      "    shape : int or tuple of ints\n",
      "        The number of samples to draw. If shape is, e.g., `(m, n)` and `loc` and\n",
      "        `scale` are scalars, output shape will be `(m, n)`. If `loc` and `scale`\n",
      "        are NDArrays with shape, e.g., `(x, y)`, then output will have shape\n",
      "        `(x, y, m, n)`, where `m*n` samples are drawn for each `[loc, scale)` pair.\n",
      "    dtype : {'float16','float32', 'float64'}\n",
      "        Data type of output samples. Default is 'float32'\n",
      "    ctx : Context\n",
      "        Device context of output. Default is current context. Overridden by\n",
      "        `loc.context` when `loc` is an NDArray.\n",
      "    out : NDArray\n",
      "        Store output to an existing NDArray.\n",
      "    \n",
      "    \n",
      "    Examples\n",
      "    --------\n",
      "    >>> mx.nd.random.normal(0, 1)\n",
      "    [ 2.21220636]\n",
      "    <NDArray 1 @cpu(0)>\n",
      "    >>> mx.nd.random.normal(0, 1, ctx=mx.gpu(0))\n",
      "    [ 0.29253659]\n",
      "    <NDArray 1 @gpu(0)>\n",
      "    >>> mx.nd.random.normal(-1, 1, shape=(2,))\n",
      "    [-0.2259962  -0.51619542]\n",
      "    <NDArray 2 @cpu(0)>\n",
      "    >>> loc = mx.nd.array([1,2,3])\n",
      "    >>> scale = mx.nd.array([2,3,4])\n",
      "    >>> mx.nd.random.normal(loc, scale, shape=2)\n",
      "    [[ 0.55912292  3.19566321]\n",
      "     [ 1.91728961  2.47706747]\n",
      "     [ 2.79666662  5.44254589]]\n",
      "    <NDArray 3x2 @cpu(0)>\n",
      "\n"
     ]
    }
   ],
   "source": [
    "help(nd.random.normal)"
   ]
  }
 ],
 "metadata": {
  "kernelspec": {
   "display_name": "Python 3",
   "language": "python",
   "name": "python3"
  },
  "language_info": {
   "codemirror_mode": {
    "name": "ipython",
    "version": 3
   },
   "file_extension": ".py",
   "mimetype": "text/x-python",
   "name": "python",
   "nbconvert_exporter": "python",
   "pygments_lexer": "ipython3",
   "version": "3.6.2"
  }
 },
 "nbformat": 4,
 "nbformat_minor": 2
}
