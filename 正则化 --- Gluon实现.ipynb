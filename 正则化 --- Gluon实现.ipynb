{
 "cells": [
  {
   "cell_type": "markdown",
   "metadata": {},
   "source": [
    " 与线性的区别在于net中加入lambd*(sum(w ** 2) + b**2)\n",
    "     但是为什么不是在loss中加入正则\n",
    " OJBK老师解释了可以在Loss里面加"
   ]
  },
  {
   "cell_type": "markdown",
   "metadata": {},
   "source": [
    "trainer中使用{'wd':weight_decay(定义一个值相当于lambd)}\n",
    " w = w - lr * grad - wd * w"
   ]
  }
 ],
 "metadata": {
  "kernelspec": {
   "display_name": "Python 3",
   "language": "python",
   "name": "python3"
  },
  "language_info": {
   "codemirror_mode": {
    "name": "ipython",
    "version": 3
   },
   "file_extension": ".py",
   "mimetype": "text/x-python",
   "name": "python",
   "nbconvert_exporter": "python",
   "pygments_lexer": "ipython3",
   "version": "3.6.2"
  }
 },
 "nbformat": 4,
 "nbformat_minor": 2
}
